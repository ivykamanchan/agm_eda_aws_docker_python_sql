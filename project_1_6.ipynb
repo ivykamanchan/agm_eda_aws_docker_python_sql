{
 "cells": [
  {
   "cell_type": "markdown",
   "id": "cd11da2a",
   "metadata": {},
   "source": [
    "# Project 1, Part 6, Identifying Best Customers\n"
   ]
  },
  {
   "cell_type": "markdown",
   "id": "701f1c25",
   "metadata": {},
   "source": [
    "# 1.6 Ideas on how the sales data can be used to help identify best customers\n",
    "\n",
    "The data science team would like to know your best ideas on how the sales data can be used to help identify the company's best customers.\n",
    "\n",
    "\n",
    "\n",
    "They are going to start with the most common and most basic model known as RFM, which consists of the 3 dimensions.\n",
    "\n",
    "* R - Recency - How recently did the customer purchase?\n",
    "\n",
    "* F - Frequency - How often do they purchase?\n",
    "\n",
    "* M - Monetary Value - How much do they spend?\n",
    "\n",
    "\n",
    "\n",
    "At first glance, it's pretty easy to think of a simple query for each dimension.\n",
    "\n",
    "However, after some thought, it's not quite so easy. It's very open ended, with a lot of grey areas, and no single right or wrong answer (just like 99% of data science and AI!)  For each dimension, there can be some pretty complex ways to determine.\n",
    "\n",
    "The data science team also has to come up with a way to synthesize the 3 dimensions into a single customer value for each customer.\n",
    "\n",
    "\n",
    "\n",
    "The data science team would like for you to present your ideas in the form of 4 paragraphs as follows:\n",
    "\n",
    "* Recency - A paragraph of 3 to 5 sentences briefly explaining your ideas on how the data can be used to determine recency.  \n",
    "\n",
    "* Frequency - A paragraph of 3 to 5 sentences briefly explaining your ideas on how the data can be used to determine frequency.\n",
    "\n",
    "* Monetary Value - A paragraph of 3 to 5 sentences briefly explaining your ideas on how the data can be used to determine monetary value.\n",
    "\n",
    "* Synthesis - A paragraph of 3 to 5 sentences briefly explaining your ideas on how to synthesize the 3 dimensions of recency, frequency, and monetary value into a customer value for each customer and how to determine who the best customers are.\n",
    "\n",
    "\n",
    "\n",
    "Put all 4 paragraphs in a single markdown cell.\n",
    "\n",
    "Note that you do not write code for this, only english language descriptions of your ideas.\n",
    "\n"
   ]
  },
  {
   "cell_type": "markdown",
   "id": "67dd986f",
   "metadata": {},
   "source": [
    "\n",
    "## Identify Best Customers by Measuring and Analyzing Spending Habits Using Recency, Frequency, and Monetary Value (RFM) Model\n",
    "\n",
    "### **Recency**\n",
    "The recently purchased customers are more likely to keep the company and its brands and products in mind for later purchases. Therefore, we can identify the customers in the \"customers\" table with the recent sale dates in the \"sales\" table, such as the last twelve months, and assign a score to the customer. Naturally, the closer the sale date is, the higher the score is assigned. We call it a \"Recency Score\".\n",
    "\n",
    "### **Frequency**\n",
    "The customers who repeatedly purchased the same or other products from the company are valuable. Therefore, it is essential to measure the number of transactions made by these repeat customers. We can identify the customers in the \"customers\" table with the number of transactions in the \"sales\" table in the last twelve months and assign a \"Frequency Score\" for these repeat customers. The more transactions they have, the higher the score is assigned.\n",
    "\n",
    "### **Monetary Value**\n",
    "The monetary value is the amount of money that the customers spend on the company's products. We want to pinpoint the customers who spend the most and hope that they will continue to do so. We can identify these customers in the \"customer\" table with the total spend from the \"total_amount\" in the sales table in the last twelve months. Then, we assign a \"Monetary Value Score\" for these high spending customers. The more the spending is, the higher the score is assigned.\n",
    "\n",
    "### **Synthesis**\n",
    "The RFM model provides the three critical quantitive factors for analysis: recency, frequency, and monetary value. First, we sum up the three scores as a single customer value and rank the result from high to low. Then, we can determine the customers with the highest 10 or 20%, for example, in the scores depending on the analysis criteria. This identified customer group with the highest ranking could be our best customer group.\n"
   ]
  },
  {
   "cell_type": "code",
   "execution_count": null,
   "id": "c4e9b7c3",
   "metadata": {},
   "outputs": [],
   "source": []
  }
 ],
 "metadata": {
  "kernelspec": {
   "display_name": "Python 3",
   "language": "python",
   "name": "python3"
  },
  "language_info": {
   "codemirror_mode": {
    "name": "ipython",
    "version": 3
   },
   "file_extension": ".py",
   "mimetype": "text/x-python",
   "name": "python",
   "nbconvert_exporter": "python",
   "pygments_lexer": "ipython3",
   "version": "3.8.8"
  }
 },
 "nbformat": 4,
 "nbformat_minor": 5
}
